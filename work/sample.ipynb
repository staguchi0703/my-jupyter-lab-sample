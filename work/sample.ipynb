{
 "cells": [
  {
   "cell_type": "code",
   "execution_count": 1,
   "metadata": {},
   "outputs": [],
   "source": [
    "import pandas as pd\n",
    "import altair as alt"
   ]
  },
  {
   "cell_type": "code",
   "execution_count": 2,
   "metadata": {},
   "outputs": [
    {
     "data": {
      "text/html": [
       "<div>\n",
       "<style scoped>\n",
       "    .dataframe tbody tr th:only-of-type {\n",
       "        vertical-align: middle;\n",
       "    }\n",
       "\n",
       "    .dataframe tbody tr th {\n",
       "        vertical-align: top;\n",
       "    }\n",
       "\n",
       "    .dataframe thead th {\n",
       "        text-align: right;\n",
       "    }\n",
       "</style>\n",
       "<table border=\"1\" class=\"dataframe\">\n",
       "  <thead>\n",
       "    <tr style=\"text-align: right;\">\n",
       "      <th></th>\n",
       "      <th>a</th>\n",
       "      <th>b</th>\n",
       "      <th>c</th>\n",
       "    </tr>\n",
       "  </thead>\n",
       "  <tbody>\n",
       "    <tr>\n",
       "      <th>0</th>\n",
       "      <td>1</td>\n",
       "      <td>2</td>\n",
       "      <td>38</td>\n",
       "    </tr>\n",
       "    <tr>\n",
       "      <th>1</th>\n",
       "      <td>3</td>\n",
       "      <td>85</td>\n",
       "      <td>78</td>\n",
       "    </tr>\n",
       "    <tr>\n",
       "      <th>2</th>\n",
       "      <td>89</td>\n",
       "      <td>11</td>\n",
       "      <td>13</td>\n",
       "    </tr>\n",
       "    <tr>\n",
       "      <th>3</th>\n",
       "      <td>1</td>\n",
       "      <td>28</td>\n",
       "      <td>38</td>\n",
       "    </tr>\n",
       "    <tr>\n",
       "      <th>4</th>\n",
       "      <td>3</td>\n",
       "      <td>58</td>\n",
       "      <td>78</td>\n",
       "    </tr>\n",
       "  </tbody>\n",
       "</table>\n",
       "</div>"
      ],
      "text/plain": [
       "    a   b   c\n",
       "0   1   2  38\n",
       "1   3  85  78\n",
       "2  89  11  13\n",
       "3   1  28  38\n",
       "4   3  58  78"
      ]
     },
     "execution_count": 2,
     "metadata": {},
     "output_type": "execute_result"
    }
   ],
   "source": [
    "df = pd.read_csv('./work/data.csv')\n",
    "df.head()"
   ]
  },
  {
   "cell_type": "code",
   "execution_count": 3,
   "metadata": {},
   "outputs": [
    {
     "data": {
      "text/html": [
       "\n",
       "<div id=\"altair-viz-c899e430ce5642a3ba7a746b1315c358\"></div>\n",
       "<script type=\"text/javascript\">\n",
       "  (function(spec, embedOpt){\n",
       "    let outputDiv = document.currentScript.previousElementSibling;\n",
       "    if (outputDiv.id !== \"altair-viz-c899e430ce5642a3ba7a746b1315c358\") {\n",
       "      outputDiv = document.getElementById(\"altair-viz-c899e430ce5642a3ba7a746b1315c358\");\n",
       "    }\n",
       "    const paths = {\n",
       "      \"vega\": \"https://cdn.jsdelivr.net/npm//vega@5?noext\",\n",
       "      \"vega-lib\": \"https://cdn.jsdelivr.net/npm//vega-lib?noext\",\n",
       "      \"vega-lite\": \"https://cdn.jsdelivr.net/npm//vega-lite@4.8.1?noext\",\n",
       "      \"vega-embed\": \"https://cdn.jsdelivr.net/npm//vega-embed@6?noext\",\n",
       "    };\n",
       "\n",
       "    function loadScript(lib) {\n",
       "      return new Promise(function(resolve, reject) {\n",
       "        var s = document.createElement('script');\n",
       "        s.src = paths[lib];\n",
       "        s.async = true;\n",
       "        s.onload = () => resolve(paths[lib]);\n",
       "        s.onerror = () => reject(`Error loading script: ${paths[lib]}`);\n",
       "        document.getElementsByTagName(\"head\")[0].appendChild(s);\n",
       "      });\n",
       "    }\n",
       "\n",
       "    function showError(err) {\n",
       "      outputDiv.innerHTML = `<div class=\"error\" style=\"color:red;\">${err}</div>`;\n",
       "      throw err;\n",
       "    }\n",
       "\n",
       "    function displayChart(vegaEmbed) {\n",
       "      vegaEmbed(outputDiv, spec, embedOpt)\n",
       "        .catch(err => showError(`Javascript Error: ${err.message}<br>This usually means there's a typo in your chart specification. See the javascript console for the full traceback.`));\n",
       "    }\n",
       "\n",
       "    if(typeof define === \"function\" && define.amd) {\n",
       "      requirejs.config({paths});\n",
       "      require([\"vega-embed\"], displayChart, err => showError(`Error loading script: ${err.message}`));\n",
       "    } else if (typeof vegaEmbed === \"function\") {\n",
       "      displayChart(vegaEmbed);\n",
       "    } else {\n",
       "      loadScript(\"vega\")\n",
       "        .then(() => loadScript(\"vega-lite\"))\n",
       "        .then(() => loadScript(\"vega-embed\"))\n",
       "        .catch(showError)\n",
       "        .then(() => displayChart(vegaEmbed));\n",
       "    }\n",
       "  })({\"config\": {\"view\": {\"continuousWidth\": 400, \"continuousHeight\": 300}}, \"hconcat\": [{\"mark\": \"point\", \"encoding\": {\"color\": {\"condition\": {\"type\": \"nominal\", \"field\": \"c\", \"selection\": \"selector001\"}, \"value\": \"gray\"}, \"size\": {\"condition\": {\"value\": 80, \"selection\": \"selector001\"}, \"value\": 30}, \"tooltip\": [{\"type\": \"quantitative\", \"field\": \"a\"}, {\"type\": \"quantitative\", \"field\": \"b\"}, {\"type\": \"quantitative\", \"field\": \"c\"}], \"x\": {\"type\": \"quantitative\", \"field\": \"a\"}, \"y\": {\"type\": \"quantitative\", \"field\": \"b\"}}, \"height\": 250, \"selection\": {\"selector001\": {\"type\": \"interval\", \"resolve\": \"global\"}}, \"width\": 250}, {\"mark\": \"point\", \"encoding\": {\"color\": {\"condition\": {\"type\": \"nominal\", \"field\": \"a\", \"selection\": \"selector001\"}, \"value\": \"gray\"}, \"size\": {\"condition\": {\"value\": 100, \"selection\": \"selector001\"}, \"value\": 30}, \"tooltip\": [{\"type\": \"quantitative\", \"field\": \"a\"}, {\"type\": \"quantitative\", \"field\": \"b\"}, {\"type\": \"quantitative\", \"field\": \"c\"}], \"x\": {\"type\": \"quantitative\", \"field\": \"b\"}, \"y\": {\"type\": \"quantitative\", \"field\": \"c\"}}, \"height\": 250, \"selection\": {\"selector001\": {\"type\": \"interval\", \"resolve\": \"global\"}}, \"width\": 250}], \"data\": {\"name\": \"data-292ad21cfd7365b67adacfa35dd005ca\"}, \"$schema\": \"https://vega.github.io/schema/vega-lite/v4.8.1.json\", \"datasets\": {\"data-292ad21cfd7365b67adacfa35dd005ca\": [{\"a\": 1, \"b\": 2, \"c\": 38}, {\"a\": 3, \"b\": 85, \"c\": 78}, {\"a\": 89, \"b\": 11, \"c\": 13}, {\"a\": 1, \"b\": 28, \"c\": 38}, {\"a\": 3, \"b\": 58, \"c\": 78}, {\"a\": 9, \"b\": 181, \"c\": 13}, {\"a\": 17, \"b\": 2, \"c\": 3}, {\"a\": 3, \"b\": 5, \"c\": 7}, {\"a\": 9, \"b\": 11, \"c\": 13}, {\"a\": 1, \"b\": 52, \"c\": 3}, {\"a\": 3, \"b\": 5, \"c\": 74}, {\"a\": 9, \"b\": 115, \"c\": 135}, {\"a\": 14, \"b\": 2, \"c\": 3}, {\"a\": 3, \"b\": 5, \"c\": 7}, {\"a\": 9, \"b\": 11, \"c\": 135}, {\"a\": 1, \"b\": 52, \"c\": 35}, {\"a\": 53, \"b\": 5, \"c\": 75}, {\"a\": 59, \"b\": 511, \"c\": 135}]}}, {\"mode\": \"vega-lite\"});\n",
       "</script>"
      ],
      "text/plain": [
       "alt.HConcatChart(...)"
      ]
     },
     "execution_count": 3,
     "metadata": {},
     "output_type": "execute_result"
    }
   ],
   "source": [
    "brush = alt.selection(type='interval', resolve='global')\n",
    "\n",
    "base = alt.Chart(df).mark_point()\n",
    "\n",
    "\n",
    "plot1 = base.encode(\n",
    "    alt.X('a:Q'),\n",
    "    alt.Y('b:Q'),\n",
    "    color=alt.condition(brush, 'c:N', alt.ColorValue('gray')),\n",
    "    size=alt.condition(brush, alt.value(80), alt.value(30)),\n",
    "    tooltip=['a', 'b', 'c']\n",
    ").add_selection(\n",
    "    brush\n",
    ").properties(\n",
    "    width=250,\n",
    "    height=250\n",
    ")\n",
    "\n",
    "plot2 = base.encode(\n",
    "    alt.X('b:Q'),\n",
    "    alt.Y('c:Q'),\n",
    "    color=alt.condition(brush, 'a:N', alt.ColorValue('gray')),\n",
    "    size=alt.condition(brush, alt.value(100), alt.value(30)),\n",
    "    tooltip=['a', 'b', 'c']\n",
    ").add_selection(\n",
    "    brush\n",
    ").properties(\n",
    "    width=250,\n",
    "    height=250\n",
    ")\n",
    "\n",
    "\n",
    "plot = plot1|plot2\n",
    "plot"
   ]
  },
  {
   "cell_type": "code",
   "execution_count": 4,
   "metadata": {},
   "outputs": [],
   "source": [
    "plot.save('sample-saved.html')"
   ]
  },
  {
   "cell_type": "code",
   "execution_count": null,
   "metadata": {},
   "outputs": [],
   "source": []
  }
 ],
 "metadata": {
  "kernelspec": {
   "display_name": "Python 3",
   "language": "python",
   "name": "python3"
  },
  "language_info": {
   "codemirror_mode": {
    "name": "ipython",
    "version": 3
   },
   "file_extension": ".py",
   "mimetype": "text/x-python",
   "name": "python",
   "nbconvert_exporter": "python",
   "pygments_lexer": "ipython3",
   "version": "3.8.6"
  }
 },
 "nbformat": 4,
 "nbformat_minor": 4
}
